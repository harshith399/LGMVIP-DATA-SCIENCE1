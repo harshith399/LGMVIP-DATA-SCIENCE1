{
  "nbformat": 4,
  "nbformat_minor": 0,
  "metadata": {
    "colab": {
      "name": "pencil to sketch.ipynb",
      "provenance": [],
      "collapsed_sections": []
    },
    "kernelspec": {
      "name": "python3",
      "display_name": "Python 3"
    },
    "language_info": {
      "name": "python"
    }
  },
  "cells": [
    {
      "cell_type": "markdown",
      "source": [
        "DATA-SCIENCE INTERN AT LETSGROWMORE LGMVIPJANUARY 2022\n",
        "\n",
        "NAME: KANUKUNTA HARSHITH GOUD\n",
        "\n",
        " TASK 2 - Image to Pencil Sketch with Python"
      ],
      "metadata": {
        "id": "qtTqiYYpzBjW"
      }
    },
    {
      "cell_type": "code",
      "source": [
        "import cv2\n",
        "import matplotlib.pyplot as plt\n",
        "import numpy as np\n",
        "from google.colab.patches import cv2_imshow"
      ],
      "metadata": {
        "id": "bbLJ7kyYzDO2"
      },
      "execution_count": 21,
      "outputs": []
    },
    {
      "cell_type": "code",
      "source": [
        "def show_image(img):\n",
        "    cv2.imshow('image' , img)\n",
        "    cv2.waitKey(0)\n",
        "    cv2.destroyAllWindows()"
      ],
      "metadata": {
        "id": "iTyhgTZh2bdM"
      },
      "execution_count": 35,
      "outputs": []
    },
    {
      "cell_type": "code",
      "source": [
        "from google.colab.patches import cv2_imshow"
      ],
      "metadata": {
        "id": "EfED8qba3oFk"
      },
      "execution_count": 23,
      "outputs": []
    },
    {
      "cell_type": "code",
      "source": [
        "!curl -o logo.png https://colab.research.google.com/img/colab_favicon_256px.png\n",
        "import cv2\n",
        "img = cv2.imread('logo.png', cv2.IMREAD_UNCHANGED)\n",
        "cv2_imshow(img)"
      ],
      "metadata": {
        "colab": {
          "base_uri": "https://localhost:8080/",
          "height": 331
        },
        "id": "JiD1xzDm3oFu",
        "outputId": "6ab721c6-b292-452d-8d60-f55bf611e831"
      },
      "execution_count": 34,
      "outputs": [
        {
          "output_type": "stream",
          "name": "stdout",
          "text": [
            "  % Total    % Received % Xferd  Average Speed   Time    Time     Time  Current\n",
            "                                 Dload  Upload   Total   Spent    Left  Speed\n",
            "\r  0     0    0     0    0     0      0      0 --:--:-- --:--:-- --:--:--     0\r100  4534  100  4534    0     0  98565      0 --:--:-- --:--:-- --:--:-- 98565\n"
          ]
        },
        {
          "output_type": "display_data",
          "data": {
            "image/png": "[encoded data removed]",
            "text/plain": [
              "<PIL.Image.Image image mode=RGBA size=260x260 at 0x7FD8F4926710>"
            ]
          },
          "metadata": {}
        }
      ]
    },
    {
      "cell_type": "code",
      "source": [
        "def dodgeV2(image, mask):\n",
        "    return cv2.divide(image, 255-mask, scale=256)"
      ],
      "metadata": {
        "id": "y6F7swUc3yFf"
      },
      "execution_count": 26,
      "outputs": []
    },
    {
      "cell_type": "code",
      "source": [
        "def blend(front,back):\n",
        "    result=front*255/(255-back)  \n",
        "    result[result>255]=255 \n",
        "    result[back==255]=255 \n",
        "    return result"
      ],
      "metadata": {
        "id": "6_-vwVhu37LC"
      },
      "execution_count": 27,
      "outputs": []
    },
    {
      "cell_type": "code",
      "source": [
        "def render(img_rgb):\n",
        "    img_gray = cv2.cvtColor(img_rgb, cv2.COLOR_BGR2GRAY)    \n",
        "    img_blur = cv2.GaussianBlur(img_gray, (21,21), 0, 0)\n",
        "    inverted_img = 255 - img_blur\n",
        "    img_blend = dodgeV2(img_gray,inverted_img)\n",
        "    img_final = 1-blend(img_blend,img_gray)\n",
        "    return img_final"
      ],
      "metadata": {
        "id": "Tt0pNz9I4FcX"
      },
      "execution_count": 28,
      "outputs": []
    },
    {
      "cell_type": "code",
      "source": [
        "plt.figure(figsize=(8,6))\n",
        "plt.imshow(final_image, cmap=\"gray\")\n",
        "plt.title('harshith', fontsize=26)\n",
        "plt.gca().axes.get_yaxis().set_visible(False)\n",
        "plt.gca().axes.get_xaxis().set_visible(False)\n",
        "plt.show()"
      ],
      "metadata": {
        "colab": {
          "base_uri": "https://localhost:8080/",
          "height": 382
        },
        "id": "xz7piy554Zk3",
        "outputId": "a964359b-866c-460f-fa26-b062f3a204a0"
      },
      "execution_count": 41,
      "outputs": [
        {
          "output_type": "display_data",
          "data": {
            "image/png": "[encoded data removed]",
            "text/plain": [
              "<Figure size 576x432 with 1 Axes>"
            ]
          },
          "metadata": {
            "needs_background": "light"
          }
        }
      ]
    },
    {
      "cell_type": "code",
      "source": [
        "cv2.imwrite('output_img.png', (final_image))"
      ],
      "metadata": {
        "colab": {
          "base_uri": "https://localhost:8080/"
        },
        "id": "jYAEdNWH4jVf",
        "outputId": "b7b46473-4c19-4e2b-b9ee-d89571106fe2"
      },
      "execution_count": 31,
      "outputs": [
        {
          "output_type": "execute_result",
          "data": {
            "text/plain": [
              "True"
            ]
          },
          "metadata": {},
          "execution_count": 31
        }
      ]
    }
  ]
}